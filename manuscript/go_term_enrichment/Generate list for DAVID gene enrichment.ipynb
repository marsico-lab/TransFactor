{
 "cells": [
  {
   "cell_type": "code",
   "execution_count": 1,
   "id": "24dd03ee-2719-4808-99e5-69181b958b0c",
   "metadata": {},
   "outputs": [],
   "source": [
    "import pandas as pd\n",
    "import matplotlib.pyplot as plt\n",
    "import seaborn as sns"
   ]
  },
  {
   "cell_type": "code",
   "execution_count": 2,
   "id": "6eb3ec1a-7783-4c9f-aad3-d23fc8f88659",
   "metadata": {},
   "outputs": [],
   "source": [
    "def write_gene_list_file(gene_list, filename):\n",
    "    with open(filename, \"w\") as file:\n",
    "        for gene in gene_list:\n",
    "            file.write(gene+\"\\n\")"
   ]
  },
  {
   "cell_type": "code",
   "execution_count": 3,
   "id": "0e98c144-33bd-4349-9b0e-84a7c13f16e3",
   "metadata": {},
   "outputs": [],
   "source": [
    "df_test=pd.read_csv(\"../benchmark/prediction_values_all_models.csv.zip\", index_col=0)"
   ]
  },
  {
   "cell_type": "code",
   "execution_count": 4,
   "id": "413432d8-c2ca-499f-bc1a-7b2e575921fa",
   "metadata": {},
   "outputs": [
    {
     "name": "stdout",
     "output_type": "stream",
     "text": [
      "Index(['seq', 'id', 'description', 'protein_ac', 'gene', 'label',\n",
      "       'cov_0.1_min_seq_id_0.1_e_0.001_cluster', 'query', 'group_split_0',\n",
      "       'group_split_1', 'group_split_2', 'group_split_3', 'group_split_4',\n",
      "       'protein_id', 'transfactor_0', 'transfactor_1', 'transfactor_2',\n",
      "       'transfactor_3', 'transfactor_4', 'transfactor_ensemble', 'ablation_0',\n",
      "       'ablation_1', 'ablation_2', 'ablation_3', 'ablation_4',\n",
      "       'ablation_ensemble', 'cnn_lstm_0', 'cnn_lstm_1', 'cnn_lstm_2',\n",
      "       'cnn_lstm_3', 'cnn_lstm_4', 'cnn_lstm_ensemble', 'svm_lin_0',\n",
      "       'svm_lin_1', 'svm_lin_2', 'svm_lin_3', 'svm_lin_4', 'svm_lin_ensemble',\n",
      "       'svm_rbf_0', 'svm_rbf_1', 'svm_rbf_2', 'svm_rbf_3', 'svm_rbf_4',\n",
      "       'svm_rbf_ensemble'],\n",
      "      dtype='object')\n",
      "['candidate' '0.0' '1.0']\n"
     ]
    }
   ],
   "source": [
    "print(df_test.columns)\n",
    "print(df_test[\"label\"].unique())"
   ]
  },
  {
   "cell_type": "code",
   "execution_count": 5,
   "id": "3a7d2160-de2b-4996-90db-07a2312c719f",
   "metadata": {},
   "outputs": [
    {
     "name": "stdout",
     "output_type": "stream",
     "text": [
      "Number of genes in Background positives: 20415\n",
      "Number of genes in List positives: 1045\n"
     ]
    }
   ],
   "source": [
    "# We will compare the enriched terms for the high vs low scoring candidate set\n",
    "# The candidate set is really experimentally candidate. Therefore maybe this tool can help to sort for useful candidates\n",
    "\n",
    "#1) Write host factors (labels) to list, background: all genes\n",
    "BG_positives=df_test[\"protein_ac\"].to_list() #background for positives\n",
    "write_gene_list_file(BG_positives, \"BG_positives.txt\")\n",
    "print(\"Number of genes in Background positives: \" +str(len(BG_positives)))\n",
    "\n",
    "List_positives=df_test[df_test[\"label\"]=='1.0'][\"protein_ac\"].to_list() #background for positives\n",
    "write_gene_list_file(List_positives, \"List_positives.txt\")\n",
    "print(\"Number of genes in List positives: \" +str(len(List_positives)))"
   ]
  },
  {
   "cell_type": "code",
   "execution_count": 6,
   "id": "e5008a31-e35c-448f-b950-ac20b589e063",
   "metadata": {},
   "outputs": [
    {
     "name": "stdout",
     "output_type": "stream",
     "text": [
      "Genes in Background candidate: 3936\n",
      "Genes in candidate transfactor_ensemble negatives: 3053\n",
      "Genes in candidate transfactor_ensemble positives: 883\n"
     ]
    }
   ],
   "source": [
    "#2)candidate set, create common background and splits\n",
    "df=df_test[df_test[\"group_split_0\"].isna()] #dataframe only containing candidate\n",
    "BG_candidate=df[\"protein_ac\"].to_list()\n",
    "write_gene_list_file(BG_candidate, \"BG_candidate.txt\")\n",
    "print(\"Genes in Background candidate: \"+ str(len(BG_candidate)))\n",
    "\n",
    "threshold=0.571461\n",
    "col = 'transfactor_ensemble'\n",
    "negatives=df[df[col]<=threshold][\"protein_ac\"].to_list()\n",
    "filename=str(col)+f\"_below_{threshold}.txt\"\n",
    "write_gene_list_file(negatives, filename)\n",
    "print(f\"Genes in candidate {col} negatives: \"+ str(len(negatives)))\n",
    "\n",
    "positives=df[df[col]>threshold][\"protein_ac\"].to_list()\n",
    "filename=str(col)+f\"_above_{threshold}.txt\"\n",
    "write_gene_list_file(positives, filename)\n",
    "print(f\"Genes in candidate {col} positives: \"+ str(len(positives)))"
   ]
  }
 ],
 "metadata": {
  "kernelspec": {
   "display_name": "Python [conda env:ghost_lustre]",
   "language": "python",
   "name": "conda-env-ghost_lustre-py"
  },
  "language_info": {
   "codemirror_mode": {
    "name": "ipython",
    "version": 3
   },
   "file_extension": ".py",
   "mimetype": "text/x-python",
   "name": "python",
   "nbconvert_exporter": "python",
   "pygments_lexer": "ipython3",
   "version": "3.11.8"
  }
 },
 "nbformat": 4,
 "nbformat_minor": 5
}
