{
 "cells": [
  {
   "cell_type": "markdown",
   "id": "83695d58-8bc2-4d47-8140-3be8029e1cde",
   "metadata": {},
   "source": [
    "This notebook creates the alanine scan mutations, the resulting sequences can be predicted using 'predict.py --data_path \\<mutated_df_path\\>'"
   ]
  },
  {
   "cell_type": "code",
   "execution_count": 1,
   "id": "b7dd6ce6-5a7d-4c20-bd42-b26098469df4",
   "metadata": {},
   "outputs": [],
   "source": [
    "MAX_WINDOW_SIZE = 40"
   ]
  },
  {
   "cell_type": "code",
   "execution_count": 2,
   "id": "a599caf7-7183-4bbb-93fe-57ca7de953dc",
   "metadata": {},
   "outputs": [],
   "source": [
    "import os\n",
    "from collections import defaultdict\n",
    "\n",
    "import matplotlib.pyplot as plt\n",
    "import numpy as np\n",
    "import pandas as pd\n",
    "import seaborn as sns\n",
    "from tqdm import tqdm\n",
    "from IPython.display import display, Markdown\n",
    "\n",
    "pd.set_option('display.max_rows', 500)\n",
    "pd.set_option('display.max_columns', 500)\n",
    "pd.set_option('display.max_seq_items', 500)\n",
    "pd.set_option(\"display.max_colwidth\", 150)"
   ]
  },
  {
   "cell_type": "code",
   "execution_count": 3,
   "id": "56a823dd-7711-4eb0-a969-24297747c02a",
   "metadata": {
    "scrolled": true
   },
   "outputs": [],
   "source": [
    "df = pd.read_pickle('../../data/all_with_candidates.pickle')"
   ]
  },
  {
   "cell_type": "code",
   "execution_count": 4,
   "id": "d35b03b9-49a7-4f5c-b03b-2d8b242a8a69",
   "metadata": {},
   "outputs": [],
   "source": [
    "# Only host factors\n",
    "df = df[df['label'] == 1.0].copy()"
   ]
  },
  {
   "cell_type": "code",
   "execution_count": 5,
   "id": "7d3ea76a-bc99-4268-9a55-76e77497d43c",
   "metadata": {},
   "outputs": [
    {
     "name": "stderr",
     "output_type": "stream",
     "text": [
      "100%|██████████████████████████████████████| 1045/1045 [00:08<00:00, 119.83it/s]\n"
     ]
    }
   ],
   "source": [
    "mutated_dfs = []\n",
    "for i, row in tqdm(df.iterrows(), total=df.shape[0]):\n",
    "    seq = row['seq']\n",
    "    amino_acids = 'ACDEFGHIKLMNPQRSTVWY'\n",
    "    # Keep wildtype sequence\n",
    "    wt_seq = {'original_seq': seq, 'seq': seq, 'position': -1, 'window_size': -1, 'original_aa': -1}\n",
    "\n",
    "    mutated_seqs = [wt_seq]\n",
    "    for window_size in [1] + list(range(5, MAX_WINDOW_SIZE+1, 5)):\n",
    "        for pos in range(0, min(len(seq) - window_size + 1, 1024)):\n",
    "            mutated_seq = seq[:pos] + ('A' * window_size) + seq[pos+window_size:]\n",
    "            mutated_df_ = {'original_seq': seq, 'seq': mutated_seq, 'position': pos+1, 'window_size': window_size, 'original_aa': seq[pos:pos+window_size]}\n",
    "            mutated_seqs.append(mutated_df_)\n",
    "\n",
    "    mutated_df = pd.DataFrame(mutated_seqs)\n",
    "    \n",
    "    mutated_df['group_split_0'] = [row['group_split_0']] * mutated_df.shape[0]\n",
    "    mutated_df['group_split_1'] = [row['group_split_1']] * mutated_df.shape[0]\n",
    "    mutated_df['group_split_2'] = [row['group_split_2']] * mutated_df.shape[0]\n",
    "    mutated_df['group_split_3'] = [row['group_split_3']] * mutated_df.shape[0]\n",
    "    mutated_df['group_split_4'] = [row['group_split_4']] * mutated_df.shape[0]\n",
    "    mutated_df['label'] = [row['label']] * mutated_df.shape[0]\n",
    "    mutated_df['protein_ac'] = [row['protein_ac']] * mutated_df.shape[0]\n",
    "\n",
    "    mutated_dfs.append(mutated_df)\n",
    "mutated_dfs = pd.concat(mutated_dfs)"
   ]
  },
  {
   "cell_type": "code",
   "execution_count": 6,
   "id": "2c2e3b7f-cb05-48c6-bb4d-597a6ef244b1",
   "metadata": {},
   "outputs": [
    {
     "data": {
      "text/plain": [
       "(5244902, 12)"
      ]
     },
     "execution_count": 6,
     "metadata": {},
     "output_type": "execute_result"
    }
   ],
   "source": [
    "mutated_dfs.shape"
   ]
  },
  {
   "cell_type": "code",
   "execution_count": 7,
   "id": "9e903c05-1e6e-4ee3-b63c-c4ef4d2cd7b5",
   "metadata": {},
   "outputs": [],
   "source": [
    "mutated_dfs.to_pickle('mutated_data.pickle.zip')"
   ]
  }
 ],
 "metadata": {
  "kernelspec": {
   "display_name": "Python [conda env:micromamba-ghost]",
   "language": "python",
   "name": "conda-env-micromamba-ghost-py"
  },
  "language_info": {
   "codemirror_mode": {
    "name": "ipython",
    "version": 3
   },
   "file_extension": ".py",
   "mimetype": "text/x-python",
   "name": "python",
   "nbconvert_exporter": "python",
   "pygments_lexer": "ipython3",
   "version": "3.11.8"
  }
 },
 "nbformat": 4,
 "nbformat_minor": 5
}
