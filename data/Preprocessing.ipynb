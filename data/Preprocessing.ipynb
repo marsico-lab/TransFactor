{
 "cells": [
  {
   "cell_type": "code",
   "execution_count": 1,
   "id": "8beabf7e-6995-4dda-a3dc-444586f1162f",
   "metadata": {
    "tags": []
   },
   "outputs": [],
   "source": [
    "import pandas as pd\n",
    "from Bio.SeqIO import parse\n",
    "from sklearn.model_selection import StratifiedGroupKFold\n",
    "import os\n",
    "\n",
    "pd.set_option('display.max_columns', 500)\n",
    "pd.set_option('display.max_rows', 200)\n",
    "\n",
    "%load_ext autoreload\n",
    "%autoreload 2"
   ]
  },
  {
   "cell_type": "markdown",
   "id": "1e084d4e-b2f5-4df9-97b0-81e3b6df4a9a",
   "metadata": {},
   "source": [
    "# Get SwissProt sequences"
   ]
  },
  {
   "cell_type": "code",
   "execution_count": 3,
   "id": "e7e5d9fd-dc0e-4c40-af7a-2d2e533f1539",
   "metadata": {
    "tags": []
   },
   "outputs": [
    {
     "data": {
      "text/html": [
       "<div>\n",
       "<style scoped>\n",
       "    .dataframe tbody tr th:only-of-type {\n",
       "        vertical-align: middle;\n",
       "    }\n",
       "\n",
       "    .dataframe tbody tr th {\n",
       "        vertical-align: top;\n",
       "    }\n",
       "\n",
       "    .dataframe thead th {\n",
       "        text-align: right;\n",
       "    }\n",
       "</style>\n",
       "<table border=\"1\" class=\"dataframe\">\n",
       "  <thead>\n",
       "    <tr style=\"text-align: right;\">\n",
       "      <th></th>\n",
       "      <th>seq</th>\n",
       "      <th>id</th>\n",
       "      <th>description</th>\n",
       "      <th>protein_ac</th>\n",
       "      <th>gene</th>\n",
       "    </tr>\n",
       "  </thead>\n",
       "  <tbody>\n",
       "    <tr>\n",
       "      <th>0</th>\n",
       "      <td>MPQLSLSWLGLGPVAASPWLLLLLVGGSWLLARVLAWTYTFYDNCR...</td>\n",
       "      <td>sp|Q9HBI6|CP4FB_HUMAN</td>\n",
       "      <td>sp|Q9HBI6|CP4FB_HUMAN Cytochrome P450 4F11 OS=...</td>\n",
       "      <td>Q9HBI6</td>\n",
       "      <td>CYP4F11</td>\n",
       "    </tr>\n",
       "    <tr>\n",
       "      <th>1</th>\n",
       "      <td>MQRLMMLLATSGACLGLLAVAAVAAAGANPAQRDTHSLLPTHRRQK...</td>\n",
       "      <td>sp|P33151|CADH5_HUMAN</td>\n",
       "      <td>sp|P33151|CADH5_HUMAN Cadherin-5 OS=Homo sapie...</td>\n",
       "      <td>P33151</td>\n",
       "      <td>CDH5</td>\n",
       "    </tr>\n",
       "    <tr>\n",
       "      <th>3</th>\n",
       "      <td>MLQIGEDVDYLLIPREVRLAGGVWRVISKPATKEAEFRERLTQFLE...</td>\n",
       "      <td>sp|Q9H0W5|CCDC8_HUMAN</td>\n",
       "      <td>sp|Q9H0W5|CCDC8_HUMAN Coiled-coil domain-conta...</td>\n",
       "      <td>Q9H0W5</td>\n",
       "      <td>CCDC8</td>\n",
       "    </tr>\n",
       "    <tr>\n",
       "      <th>4</th>\n",
       "      <td>MSLPPEKASELKQLIHQQLSKMDVHGRIREILAETIREELAPDQQH...</td>\n",
       "      <td>sp|Q8TAP6|CEP76_HUMAN</td>\n",
       "      <td>sp|Q8TAP6|CEP76_HUMAN Centrosomal protein of 7...</td>\n",
       "      <td>Q8TAP6</td>\n",
       "      <td>CEP76</td>\n",
       "    </tr>\n",
       "    <tr>\n",
       "      <th>7</th>\n",
       "      <td>MARAGPRLVLSEEAVRAKSGLGPHRDLAELQSLSIPGTYQEKITHL...</td>\n",
       "      <td>sp|Q9P209|CEP72_HUMAN</td>\n",
       "      <td>sp|Q9P209|CEP72_HUMAN Centrosomal protein of 7...</td>\n",
       "      <td>Q9P209</td>\n",
       "      <td>CEP72</td>\n",
       "    </tr>\n",
       "    <tr>\n",
       "      <th>...</th>\n",
       "      <td>...</td>\n",
       "      <td>...</td>\n",
       "      <td>...</td>\n",
       "      <td>...</td>\n",
       "      <td>...</td>\n",
       "    </tr>\n",
       "    <tr>\n",
       "      <th>42412</th>\n",
       "      <td>MALIRKTFYFLFAMFFILVQLPSGCQAGLDFSQPFPSGEFAVCESC...</td>\n",
       "      <td>sp|Q8NG35|D105A_HUMAN</td>\n",
       "      <td>sp|Q8NG35|D105A_HUMAN Beta-defensin 105 OS=Hom...</td>\n",
       "      <td>Q8NG35</td>\n",
       "      <td>DEFB105A</td>\n",
       "    </tr>\n",
       "    <tr>\n",
       "      <th>42413</th>\n",
       "      <td>MRSMKALQKALSRAGSHCGRGGWGHPSRSPLLGGGVRHHLSEAAAQ...</td>\n",
       "      <td>sp|Q9UI32|GLSL_HUMAN</td>\n",
       "      <td>sp|Q9UI32|GLSL_HUMAN Glutaminase liver isoform...</td>\n",
       "      <td>Q9UI32</td>\n",
       "      <td>GLS2</td>\n",
       "    </tr>\n",
       "    <tr>\n",
       "      <th>42415</th>\n",
       "      <td>MNLPRAERLRSTPQRSLRDSDGEDGKIDVLGEEEDEDEEEAASQQF...</td>\n",
       "      <td>sp|Q12950|FOXD4_HUMAN</td>\n",
       "      <td>sp|Q12950|FOXD4_HUMAN Forkhead box protein D4 ...</td>\n",
       "      <td>Q12950</td>\n",
       "      <td>FOXD4</td>\n",
       "    </tr>\n",
       "    <tr>\n",
       "      <th>42416</th>\n",
       "      <td>MCSLPRGFEPQAPEDLAQRSLVELREMLKRQERLLRNEKFICKLPD...</td>\n",
       "      <td>sp|P0CAP2|GRL1A_HUMAN</td>\n",
       "      <td>sp|P0CAP2|GRL1A_HUMAN DNA-directed RNA polymer...</td>\n",
       "      <td>P0CAP2</td>\n",
       "      <td>POLR2M</td>\n",
       "    </tr>\n",
       "    <tr>\n",
       "      <th>42419</th>\n",
       "      <td>MALSLGWKAHRNHCGLLLQALRSSGLLLFPCGQCPWRGAGSFLDPE...</td>\n",
       "      <td>sp|Q8IXQ9|ETKMT_HUMAN</td>\n",
       "      <td>sp|Q8IXQ9|ETKMT_HUMAN Electron transfer flavop...</td>\n",
       "      <td>Q8IXQ9</td>\n",
       "      <td>ETFBKMT</td>\n",
       "    </tr>\n",
       "  </tbody>\n",
       "</table>\n",
       "<p>20415 rows × 5 columns</p>\n",
       "</div>"
      ],
      "text/plain": [
       "                                                     seq  \\\n",
       "0      MPQLSLSWLGLGPVAASPWLLLLLVGGSWLLARVLAWTYTFYDNCR...   \n",
       "1      MQRLMMLLATSGACLGLLAVAAVAAAGANPAQRDTHSLLPTHRRQK...   \n",
       "3      MLQIGEDVDYLLIPREVRLAGGVWRVISKPATKEAEFRERLTQFLE...   \n",
       "4      MSLPPEKASELKQLIHQQLSKMDVHGRIREILAETIREELAPDQQH...   \n",
       "7      MARAGPRLVLSEEAVRAKSGLGPHRDLAELQSLSIPGTYQEKITHL...   \n",
       "...                                                  ...   \n",
       "42412  MALIRKTFYFLFAMFFILVQLPSGCQAGLDFSQPFPSGEFAVCESC...   \n",
       "42413  MRSMKALQKALSRAGSHCGRGGWGHPSRSPLLGGGVRHHLSEAAAQ...   \n",
       "42415  MNLPRAERLRSTPQRSLRDSDGEDGKIDVLGEEEDEDEEEAASQQF...   \n",
       "42416  MCSLPRGFEPQAPEDLAQRSLVELREMLKRQERLLRNEKFICKLPD...   \n",
       "42419  MALSLGWKAHRNHCGLLLQALRSSGLLLFPCGQCPWRGAGSFLDPE...   \n",
       "\n",
       "                          id  \\\n",
       "0      sp|Q9HBI6|CP4FB_HUMAN   \n",
       "1      sp|P33151|CADH5_HUMAN   \n",
       "3      sp|Q9H0W5|CCDC8_HUMAN   \n",
       "4      sp|Q8TAP6|CEP76_HUMAN   \n",
       "7      sp|Q9P209|CEP72_HUMAN   \n",
       "...                      ...   \n",
       "42412  sp|Q8NG35|D105A_HUMAN   \n",
       "42413   sp|Q9UI32|GLSL_HUMAN   \n",
       "42415  sp|Q12950|FOXD4_HUMAN   \n",
       "42416  sp|P0CAP2|GRL1A_HUMAN   \n",
       "42419  sp|Q8IXQ9|ETKMT_HUMAN   \n",
       "\n",
       "                                             description protein_ac      gene  \n",
       "0      sp|Q9HBI6|CP4FB_HUMAN Cytochrome P450 4F11 OS=...     Q9HBI6   CYP4F11  \n",
       "1      sp|P33151|CADH5_HUMAN Cadherin-5 OS=Homo sapie...     P33151      CDH5  \n",
       "3      sp|Q9H0W5|CCDC8_HUMAN Coiled-coil domain-conta...     Q9H0W5     CCDC8  \n",
       "4      sp|Q8TAP6|CEP76_HUMAN Centrosomal protein of 7...     Q8TAP6     CEP76  \n",
       "7      sp|Q9P209|CEP72_HUMAN Centrosomal protein of 7...     Q9P209     CEP72  \n",
       "...                                                  ...        ...       ...  \n",
       "42412  sp|Q8NG35|D105A_HUMAN Beta-defensin 105 OS=Hom...     Q8NG35  DEFB105A  \n",
       "42413  sp|Q9UI32|GLSL_HUMAN Glutaminase liver isoform...     Q9UI32      GLS2  \n",
       "42415  sp|Q12950|FOXD4_HUMAN Forkhead box protein D4 ...     Q12950     FOXD4  \n",
       "42416  sp|P0CAP2|GRL1A_HUMAN DNA-directed RNA polymer...     P0CAP2    POLR2M  \n",
       "42419  sp|Q8IXQ9|ETKMT_HUMAN Electron transfer flavop...     Q8IXQ9   ETFBKMT  \n",
       "\n",
       "[20415 rows x 5 columns]"
      ]
     },
     "execution_count": 3,
     "metadata": {},
     "output_type": "execute_result"
    }
   ],
   "source": [
    "data = parse('uniprot-9606_proteome_human_reviewed_canonical_isoforms_191008.fasta', 'fasta')\n",
    "\n",
    "seqs = []\n",
    "for rec in data:\n",
    "    seqs.append({'seq': str(rec.seq), 'id': rec.id, 'description': rec.description})\n",
    "\n",
    "seqs = pd.DataFrame(seqs)\n",
    "seqs['protein_ac'] = seqs['id'].apply(lambda x: x.split('|')[1])\n",
    "seqs = seqs[~seqs['protein_ac'].str.contains('-')].copy()  # only retain canonical sequences\n",
    "seqs['gene'] = seqs['description'].apply(lambda x: x.split('GN=')[1].split(' PE=')[0] if 'GN=' in x else None)\n",
    "seqs"
   ]
  },
  {
   "cell_type": "markdown",
   "id": "b2360a97-245d-45cc-8a1f-c42247470527",
   "metadata": {
    "tags": []
   },
   "source": [
    "# Labels"
   ]
  },
  {
   "cell_type": "markdown",
   "id": "1e173bd4-03ea-42c7-9c8d-e0ea0f866887",
   "metadata": {},
   "source": [
    "Please download Supplementary Table 3 '41564_2021_958_MOESM3_ESM.xlsx' from https://www.nature.com/articles/s41564-021-00958-0\n",
    "\n",
    "Or direct download link: https://static-content.springer.com/esm/art%3A10.1038%2Fs41564-021-00958-0/MediaObjects/41564_2021_958_MOESM3_ESM.xlsx"
   ]
  },
  {
   "cell_type": "code",
   "execution_count": 4,
   "id": "9a1eed2c-8cf1-4fcf-9843-dde630aa1f61",
   "metadata": {},
   "outputs": [],
   "source": [
    "labels = pd.read_excel('41564_2021_958_MOESM3_ESM.xlsx',  header=3, usecols=\"F:AT\")\n",
    "labels = labels.drop_duplicates(subset=['Reference', 'Assay type', 'Gene name', 'Uniprot accession'])\n",
    "counts = dict(labels.groupby(['Gene name']).apply(lambda x: x['Reference'].unique().shape[0]))  # Counts\n",
    "valid = labels.groupby(['Gene name']).count()['Functionally validated by authors']  # Functionally validated\n",
    "labels = pd.DataFrame([counts, valid]).transpose().reset_index().rename(columns={0: 'n_publications', 1: 'n_functionally_validated', 'index': 'Gene name'})"
   ]
  },
  {
   "cell_type": "code",
   "execution_count": 5,
   "id": "8fe592f5-f28f-496e-8e2d-32bc7069df46",
   "metadata": {},
   "outputs": [],
   "source": [
    "labels['label'] = ((labels['n_publications'] >= 3) | (labels['n_functionally_validated'] >= 1.0)).astype(float)\n",
    "labels.loc[(labels['n_publications'] < 3) & (labels['n_functionally_validated'] < 1.0), 'label'] = 'candidate'"
   ]
  },
  {
   "cell_type": "markdown",
   "id": "10ad017f-1f5d-4ab7-b4f3-3938390377c9",
   "metadata": {},
   "source": [
    "# Merge Sequences with Labels"
   ]
  },
  {
   "cell_type": "code",
   "execution_count": 6,
   "id": "05cfac6b-8e3f-4691-8256-954d533f9db2",
   "metadata": {},
   "outputs": [
    {
     "data": {
      "text/plain": [
       "(20415, 6)"
      ]
     },
     "execution_count": 6,
     "metadata": {},
     "output_type": "execute_result"
    }
   ],
   "source": [
    "seqs_and_labels = pd.merge(seqs, labels[['Gene name', 'label']], 'left', left_on='gene', right_on='Gene name')\n",
    "seqs_and_labels.loc[seqs_and_labels['label'].isna(), 'label'] = 0.0\n",
    "seqs_and_labels = seqs_and_labels.drop(columns='Gene name')\n",
    "seqs_and_labels.shape"
   ]
  },
  {
   "cell_type": "code",
   "execution_count": 7,
   "id": "654e32ad-86d1-4255-8567-8ed7facf1ebd",
   "metadata": {},
   "outputs": [
    {
     "data": {
      "text/plain": [
       "0.0          15434\n",
       "candidate     3936\n",
       "1.0           1045\n",
       "Name: label, dtype: int64"
      ]
     },
     "execution_count": 7,
     "metadata": {},
     "output_type": "execute_result"
    }
   ],
   "source": [
    "# NaN indicates negatives, since these are ones that were not mentioned in the list of genes from Baggan et. al\n",
    "seqs_and_labels['label'].value_counts(dropna=False)"
   ]
  },
  {
   "cell_type": "code",
   "execution_count": 8,
   "id": "e229690d-cdd8-4163-adc2-f902621a9bb0",
   "metadata": {},
   "outputs": [
    {
     "data": {
      "text/html": [
       "<div>\n",
       "<style scoped>\n",
       "    .dataframe tbody tr th:only-of-type {\n",
       "        vertical-align: middle;\n",
       "    }\n",
       "\n",
       "    .dataframe tbody tr th {\n",
       "        vertical-align: top;\n",
       "    }\n",
       "\n",
       "    .dataframe thead th {\n",
       "        text-align: right;\n",
       "    }\n",
       "</style>\n",
       "<table border=\"1\" class=\"dataframe\">\n",
       "  <thead>\n",
       "    <tr style=\"text-align: right;\">\n",
       "      <th></th>\n",
       "      <th>seq</th>\n",
       "      <th>id</th>\n",
       "      <th>description</th>\n",
       "      <th>protein_ac</th>\n",
       "      <th>gene</th>\n",
       "      <th>label</th>\n",
       "    </tr>\n",
       "  </thead>\n",
       "  <tbody>\n",
       "    <tr>\n",
       "      <th>0</th>\n",
       "      <td>MPQLSLSWLGLGPVAASPWLLLLLVGGSWLLARVLAWTYTFYDNCR...</td>\n",
       "      <td>sp|Q9HBI6|CP4FB_HUMAN</td>\n",
       "      <td>sp|Q9HBI6|CP4FB_HUMAN Cytochrome P450 4F11 OS=...</td>\n",
       "      <td>Q9HBI6</td>\n",
       "      <td>CYP4F11</td>\n",
       "      <td>candidate</td>\n",
       "    </tr>\n",
       "    <tr>\n",
       "      <th>1</th>\n",
       "      <td>MQRLMMLLATSGACLGLLAVAAVAAAGANPAQRDTHSLLPTHRRQK...</td>\n",
       "      <td>sp|P33151|CADH5_HUMAN</td>\n",
       "      <td>sp|P33151|CADH5_HUMAN Cadherin-5 OS=Homo sapie...</td>\n",
       "      <td>P33151</td>\n",
       "      <td>CDH5</td>\n",
       "      <td>0.0</td>\n",
       "    </tr>\n",
       "    <tr>\n",
       "      <th>2</th>\n",
       "      <td>MLQIGEDVDYLLIPREVRLAGGVWRVISKPATKEAEFRERLTQFLE...</td>\n",
       "      <td>sp|Q9H0W5|CCDC8_HUMAN</td>\n",
       "      <td>sp|Q9H0W5|CCDC8_HUMAN Coiled-coil domain-conta...</td>\n",
       "      <td>Q9H0W5</td>\n",
       "      <td>CCDC8</td>\n",
       "      <td>candidate</td>\n",
       "    </tr>\n",
       "    <tr>\n",
       "      <th>3</th>\n",
       "      <td>MSLPPEKASELKQLIHQQLSKMDVHGRIREILAETIREELAPDQQH...</td>\n",
       "      <td>sp|Q8TAP6|CEP76_HUMAN</td>\n",
       "      <td>sp|Q8TAP6|CEP76_HUMAN Centrosomal protein of 7...</td>\n",
       "      <td>Q8TAP6</td>\n",
       "      <td>CEP76</td>\n",
       "      <td>candidate</td>\n",
       "    </tr>\n",
       "    <tr>\n",
       "      <th>4</th>\n",
       "      <td>MARAGPRLVLSEEAVRAKSGLGPHRDLAELQSLSIPGTYQEKITHL...</td>\n",
       "      <td>sp|Q9P209|CEP72_HUMAN</td>\n",
       "      <td>sp|Q9P209|CEP72_HUMAN Centrosomal protein of 7...</td>\n",
       "      <td>Q9P209</td>\n",
       "      <td>CEP72</td>\n",
       "      <td>candidate</td>\n",
       "    </tr>\n",
       "    <tr>\n",
       "      <th>...</th>\n",
       "      <td>...</td>\n",
       "      <td>...</td>\n",
       "      <td>...</td>\n",
       "      <td>...</td>\n",
       "      <td>...</td>\n",
       "      <td>...</td>\n",
       "    </tr>\n",
       "    <tr>\n",
       "      <th>20410</th>\n",
       "      <td>MALIRKTFYFLFAMFFILVQLPSGCQAGLDFSQPFPSGEFAVCESC...</td>\n",
       "      <td>sp|Q8NG35|D105A_HUMAN</td>\n",
       "      <td>sp|Q8NG35|D105A_HUMAN Beta-defensin 105 OS=Hom...</td>\n",
       "      <td>Q8NG35</td>\n",
       "      <td>DEFB105A</td>\n",
       "      <td>0.0</td>\n",
       "    </tr>\n",
       "    <tr>\n",
       "      <th>20411</th>\n",
       "      <td>MRSMKALQKALSRAGSHCGRGGWGHPSRSPLLGGGVRHHLSEAAAQ...</td>\n",
       "      <td>sp|Q9UI32|GLSL_HUMAN</td>\n",
       "      <td>sp|Q9UI32|GLSL_HUMAN Glutaminase liver isoform...</td>\n",
       "      <td>Q9UI32</td>\n",
       "      <td>GLS2</td>\n",
       "      <td>0.0</td>\n",
       "    </tr>\n",
       "    <tr>\n",
       "      <th>20412</th>\n",
       "      <td>MNLPRAERLRSTPQRSLRDSDGEDGKIDVLGEEEDEDEEEAASQQF...</td>\n",
       "      <td>sp|Q12950|FOXD4_HUMAN</td>\n",
       "      <td>sp|Q12950|FOXD4_HUMAN Forkhead box protein D4 ...</td>\n",
       "      <td>Q12950</td>\n",
       "      <td>FOXD4</td>\n",
       "      <td>0.0</td>\n",
       "    </tr>\n",
       "    <tr>\n",
       "      <th>20413</th>\n",
       "      <td>MCSLPRGFEPQAPEDLAQRSLVELREMLKRQERLLRNEKFICKLPD...</td>\n",
       "      <td>sp|P0CAP2|GRL1A_HUMAN</td>\n",
       "      <td>sp|P0CAP2|GRL1A_HUMAN DNA-directed RNA polymer...</td>\n",
       "      <td>P0CAP2</td>\n",
       "      <td>POLR2M</td>\n",
       "      <td>candidate</td>\n",
       "    </tr>\n",
       "    <tr>\n",
       "      <th>20414</th>\n",
       "      <td>MALSLGWKAHRNHCGLLLQALRSSGLLLFPCGQCPWRGAGSFLDPE...</td>\n",
       "      <td>sp|Q8IXQ9|ETKMT_HUMAN</td>\n",
       "      <td>sp|Q8IXQ9|ETKMT_HUMAN Electron transfer flavop...</td>\n",
       "      <td>Q8IXQ9</td>\n",
       "      <td>ETFBKMT</td>\n",
       "      <td>0.0</td>\n",
       "    </tr>\n",
       "  </tbody>\n",
       "</table>\n",
       "<p>20415 rows × 6 columns</p>\n",
       "</div>"
      ],
      "text/plain": [
       "                                                     seq  \\\n",
       "0      MPQLSLSWLGLGPVAASPWLLLLLVGGSWLLARVLAWTYTFYDNCR...   \n",
       "1      MQRLMMLLATSGACLGLLAVAAVAAAGANPAQRDTHSLLPTHRRQK...   \n",
       "2      MLQIGEDVDYLLIPREVRLAGGVWRVISKPATKEAEFRERLTQFLE...   \n",
       "3      MSLPPEKASELKQLIHQQLSKMDVHGRIREILAETIREELAPDQQH...   \n",
       "4      MARAGPRLVLSEEAVRAKSGLGPHRDLAELQSLSIPGTYQEKITHL...   \n",
       "...                                                  ...   \n",
       "20410  MALIRKTFYFLFAMFFILVQLPSGCQAGLDFSQPFPSGEFAVCESC...   \n",
       "20411  MRSMKALQKALSRAGSHCGRGGWGHPSRSPLLGGGVRHHLSEAAAQ...   \n",
       "20412  MNLPRAERLRSTPQRSLRDSDGEDGKIDVLGEEEDEDEEEAASQQF...   \n",
       "20413  MCSLPRGFEPQAPEDLAQRSLVELREMLKRQERLLRNEKFICKLPD...   \n",
       "20414  MALSLGWKAHRNHCGLLLQALRSSGLLLFPCGQCPWRGAGSFLDPE...   \n",
       "\n",
       "                          id  \\\n",
       "0      sp|Q9HBI6|CP4FB_HUMAN   \n",
       "1      sp|P33151|CADH5_HUMAN   \n",
       "2      sp|Q9H0W5|CCDC8_HUMAN   \n",
       "3      sp|Q8TAP6|CEP76_HUMAN   \n",
       "4      sp|Q9P209|CEP72_HUMAN   \n",
       "...                      ...   \n",
       "20410  sp|Q8NG35|D105A_HUMAN   \n",
       "20411   sp|Q9UI32|GLSL_HUMAN   \n",
       "20412  sp|Q12950|FOXD4_HUMAN   \n",
       "20413  sp|P0CAP2|GRL1A_HUMAN   \n",
       "20414  sp|Q8IXQ9|ETKMT_HUMAN   \n",
       "\n",
       "                                             description protein_ac      gene  \\\n",
       "0      sp|Q9HBI6|CP4FB_HUMAN Cytochrome P450 4F11 OS=...     Q9HBI6   CYP4F11   \n",
       "1      sp|P33151|CADH5_HUMAN Cadherin-5 OS=Homo sapie...     P33151      CDH5   \n",
       "2      sp|Q9H0W5|CCDC8_HUMAN Coiled-coil domain-conta...     Q9H0W5     CCDC8   \n",
       "3      sp|Q8TAP6|CEP76_HUMAN Centrosomal protein of 7...     Q8TAP6     CEP76   \n",
       "4      sp|Q9P209|CEP72_HUMAN Centrosomal protein of 7...     Q9P209     CEP72   \n",
       "...                                                  ...        ...       ...   \n",
       "20410  sp|Q8NG35|D105A_HUMAN Beta-defensin 105 OS=Hom...     Q8NG35  DEFB105A   \n",
       "20411  sp|Q9UI32|GLSL_HUMAN Glutaminase liver isoform...     Q9UI32      GLS2   \n",
       "20412  sp|Q12950|FOXD4_HUMAN Forkhead box protein D4 ...     Q12950     FOXD4   \n",
       "20413  sp|P0CAP2|GRL1A_HUMAN DNA-directed RNA polymer...     P0CAP2    POLR2M   \n",
       "20414  sp|Q8IXQ9|ETKMT_HUMAN Electron transfer flavop...     Q8IXQ9   ETFBKMT   \n",
       "\n",
       "           label  \n",
       "0      candidate  \n",
       "1            0.0  \n",
       "2      candidate  \n",
       "3      candidate  \n",
       "4      candidate  \n",
       "...          ...  \n",
       "20410        0.0  \n",
       "20411        0.0  \n",
       "20412        0.0  \n",
       "20413  candidate  \n",
       "20414        0.0  \n",
       "\n",
       "[20415 rows x 6 columns]"
      ]
     },
     "execution_count": 8,
     "metadata": {},
     "output_type": "execute_result"
    }
   ],
   "source": [
    "seqs_and_labels"
   ]
  },
  {
   "cell_type": "markdown",
   "id": "7c6c12a4-7325-48d8-91b9-217bda6ff304",
   "metadata": {},
   "source": [
    "# mmseqs2"
   ]
  },
  {
   "cell_type": "code",
   "execution_count": 9,
   "id": "3695f58f-1df9-4718-8f34-53c0bacfe735",
   "metadata": {},
   "outputs": [],
   "source": [
    "os.makedirs('mmseqs_clusters', exist_ok=True)\n",
    "os.makedirs('tmp', exist_ok=True)"
   ]
  },
  {
   "cell_type": "code",
   "execution_count": 10,
   "id": "98b5069f-c3f1-4374-a559-f61dc260e326",
   "metadata": {},
   "outputs": [],
   "source": [
    "# Create Fasta for mmseqs2\n",
    "f = open(f'seqs_and_labels.fasta', 'w')\n",
    "for row in seqs_and_labels[['protein_ac', 'seq']].iterrows():\n",
    "    f.writelines(f'>{row[1][0]}\\n{row[1][1]}\\n')\n",
    "f.close()"
   ]
  },
  {
   "cell_type": "markdown",
   "id": "411eb945-222d-4a4b-afaf-c24cf9e58e20",
   "metadata": {
    "scrolled": true
   },
   "source": [
    "Run the following command:\n",
    "\n",
    "!mmseqs easy-cluster seqs_and_labels.fasta mmseqs_clusters/seqs_and_labels_cov_0.1_min_seq_id_0.1_e_0.001 tmp -c 0.1 --min-seq-id 0.1 -e 0.001\n",
    "\n",
    "For reproducibility, please load the attached cluster file"
   ]
  },
  {
   "cell_type": "code",
   "execution_count": 11,
   "id": "b6530f4f-8a75-4f0e-9195-2c4acd9e719c",
   "metadata": {},
   "outputs": [],
   "source": [
    "cluster = pd.read_csv(f'mmseqs_clusters/seqs_and_labels_cov_0.1_min_seq_id_0.1_e_0.001_cluster.tsv', sep='\\t', names=['cov_0.1_min_seq_id_0.1_e_0.001_cluster', 'query'])"
   ]
  },
  {
   "cell_type": "code",
   "execution_count": 12,
   "id": "a1dd0eea-7b87-4401-ad64-eb155a18b469",
   "metadata": {},
   "outputs": [
    {
     "data": {
      "text/html": [
       "<div>\n",
       "<style scoped>\n",
       "    .dataframe tbody tr th:only-of-type {\n",
       "        vertical-align: middle;\n",
       "    }\n",
       "\n",
       "    .dataframe tbody tr th {\n",
       "        vertical-align: top;\n",
       "    }\n",
       "\n",
       "    .dataframe thead th {\n",
       "        text-align: right;\n",
       "    }\n",
       "</style>\n",
       "<table border=\"1\" class=\"dataframe\">\n",
       "  <thead>\n",
       "    <tr style=\"text-align: right;\">\n",
       "      <th></th>\n",
       "      <th>seq</th>\n",
       "      <th>id</th>\n",
       "      <th>description</th>\n",
       "      <th>protein_ac</th>\n",
       "      <th>gene</th>\n",
       "      <th>label</th>\n",
       "      <th>cov_0.1_min_seq_id_0.1_e_0.001_cluster</th>\n",
       "      <th>query</th>\n",
       "    </tr>\n",
       "  </thead>\n",
       "  <tbody>\n",
       "    <tr>\n",
       "      <th>0</th>\n",
       "      <td>MPQLSLSWLGLGPVAASPWLLLLLVGGSWLLARVLAWTYTFYDNCR...</td>\n",
       "      <td>sp|Q9HBI6|CP4FB_HUMAN</td>\n",
       "      <td>sp|Q9HBI6|CP4FB_HUMAN Cytochrome P450 4F11 OS=...</td>\n",
       "      <td>Q9HBI6</td>\n",
       "      <td>CYP4F11</td>\n",
       "      <td>candidate</td>\n",
       "      <td>Q07973</td>\n",
       "      <td>Q9HBI6</td>\n",
       "    </tr>\n",
       "    <tr>\n",
       "      <th>1</th>\n",
       "      <td>MQRLMMLLATSGACLGLLAVAAVAAAGANPAQRDTHSLLPTHRRQK...</td>\n",
       "      <td>sp|P33151|CADH5_HUMAN</td>\n",
       "      <td>sp|P33151|CADH5_HUMAN Cadherin-5 OS=Homo sapie...</td>\n",
       "      <td>P33151</td>\n",
       "      <td>CDH5</td>\n",
       "      <td>0.0</td>\n",
       "      <td>Q6V1P9</td>\n",
       "      <td>P33151</td>\n",
       "    </tr>\n",
       "    <tr>\n",
       "      <th>2</th>\n",
       "      <td>MLQIGEDVDYLLIPREVRLAGGVWRVISKPATKEAEFRERLTQFLE...</td>\n",
       "      <td>sp|Q9H0W5|CCDC8_HUMAN</td>\n",
       "      <td>sp|Q9H0W5|CCDC8_HUMAN Coiled-coil domain-conta...</td>\n",
       "      <td>Q9H0W5</td>\n",
       "      <td>CCDC8</td>\n",
       "      <td>candidate</td>\n",
       "      <td>A0A1B0GUJ8</td>\n",
       "      <td>Q9H0W5</td>\n",
       "    </tr>\n",
       "    <tr>\n",
       "      <th>3</th>\n",
       "      <td>MSLPPEKASELKQLIHQQLSKMDVHGRIREILAETIREELAPDQQH...</td>\n",
       "      <td>sp|Q8TAP6|CEP76_HUMAN</td>\n",
       "      <td>sp|Q8TAP6|CEP76_HUMAN Centrosomal protein of 7...</td>\n",
       "      <td>Q8TAP6</td>\n",
       "      <td>CEP76</td>\n",
       "      <td>candidate</td>\n",
       "      <td>Q9P2K1</td>\n",
       "      <td>Q8TAP6</td>\n",
       "    </tr>\n",
       "    <tr>\n",
       "      <th>4</th>\n",
       "      <td>MARAGPRLVLSEEAVRAKSGLGPHRDLAELQSLSIPGTYQEKITHL...</td>\n",
       "      <td>sp|Q9P209|CEP72_HUMAN</td>\n",
       "      <td>sp|Q9P209|CEP72_HUMAN Centrosomal protein of 7...</td>\n",
       "      <td>Q9P209</td>\n",
       "      <td>CEP72</td>\n",
       "      <td>candidate</td>\n",
       "      <td>Q86X45</td>\n",
       "      <td>Q9P209</td>\n",
       "    </tr>\n",
       "  </tbody>\n",
       "</table>\n",
       "</div>"
      ],
      "text/plain": [
       "                                                 seq                     id  \\\n",
       "0  MPQLSLSWLGLGPVAASPWLLLLLVGGSWLLARVLAWTYTFYDNCR...  sp|Q9HBI6|CP4FB_HUMAN   \n",
       "1  MQRLMMLLATSGACLGLLAVAAVAAAGANPAQRDTHSLLPTHRRQK...  sp|P33151|CADH5_HUMAN   \n",
       "2  MLQIGEDVDYLLIPREVRLAGGVWRVISKPATKEAEFRERLTQFLE...  sp|Q9H0W5|CCDC8_HUMAN   \n",
       "3  MSLPPEKASELKQLIHQQLSKMDVHGRIREILAETIREELAPDQQH...  sp|Q8TAP6|CEP76_HUMAN   \n",
       "4  MARAGPRLVLSEEAVRAKSGLGPHRDLAELQSLSIPGTYQEKITHL...  sp|Q9P209|CEP72_HUMAN   \n",
       "\n",
       "                                         description protein_ac     gene  \\\n",
       "0  sp|Q9HBI6|CP4FB_HUMAN Cytochrome P450 4F11 OS=...     Q9HBI6  CYP4F11   \n",
       "1  sp|P33151|CADH5_HUMAN Cadherin-5 OS=Homo sapie...     P33151     CDH5   \n",
       "2  sp|Q9H0W5|CCDC8_HUMAN Coiled-coil domain-conta...     Q9H0W5    CCDC8   \n",
       "3  sp|Q8TAP6|CEP76_HUMAN Centrosomal protein of 7...     Q8TAP6    CEP76   \n",
       "4  sp|Q9P209|CEP72_HUMAN Centrosomal protein of 7...     Q9P209    CEP72   \n",
       "\n",
       "       label cov_0.1_min_seq_id_0.1_e_0.001_cluster   query  \n",
       "0  candidate                                 Q07973  Q9HBI6  \n",
       "1        0.0                                 Q6V1P9  P33151  \n",
       "2  candidate                             A0A1B0GUJ8  Q9H0W5  \n",
       "3  candidate                                 Q9P2K1  Q8TAP6  \n",
       "4  candidate                                 Q86X45  Q9P209  "
      ]
     },
     "execution_count": 12,
     "metadata": {},
     "output_type": "execute_result"
    }
   ],
   "source": [
    "seqs_and_labels = pd.merge(seqs_and_labels, cluster, 'left', left_on='protein_ac', right_on='query')\n",
    "seqs_and_labels.head()"
   ]
  },
  {
   "cell_type": "markdown",
   "id": "7fa6959a-dc6e-4426-876c-c50bbf84171d",
   "metadata": {},
   "source": [
    "# Create Data Splits"
   ]
  },
  {
   "cell_type": "code",
   "execution_count": 13,
   "id": "86b8470e-9669-426e-893e-d7d1935ab43d",
   "metadata": {},
   "outputs": [],
   "source": [
    "# Remove candidate samples\n",
    "training_data = seqs_and_labels[(seqs_and_labels['label'] != 'candidate')].copy()\n",
    "training_data['label'] = training_data['label'].astype(float)\n",
    "training_data = training_data.reset_index(drop=True)"
   ]
  },
  {
   "cell_type": "code",
   "execution_count": 14,
   "id": "78ca0f9e-5fa2-4237-af36-79c66b32e5fd",
   "metadata": {},
   "outputs": [],
   "source": [
    "# Potentially not reproducing the same split, though tested on another machine and it was the same with our used splits\n",
    "sgkf = StratifiedGroupKFold(n_splits=6, shuffle=True, random_state=42)\n",
    "for i, split in enumerate(sgkf.split(training_data, training_data['label'], training_data['cov_0.1_min_seq_id_0.1_e_0.001_cluster'])):\n",
    "    training_data[f'group_split_{i}'] = 'train'\n",
    "    training_data.loc[split[1], f'group_split_{i}'] = 'val'\n",
    "training_data.loc[training_data['group_split_5'] == 'val', ['group_split_0', 'group_split_1', 'group_split_2', 'group_split_3', 'group_split_4']] = 'test'"
   ]
  },
  {
   "cell_type": "code",
   "execution_count": 15,
   "id": "69a5cbbe-47c0-4370-a152-f895bb3a3b14",
   "metadata": {},
   "outputs": [],
   "source": [
    "training_data.to_pickle('training_data.pickle')"
   ]
  },
  {
   "cell_type": "markdown",
   "id": "9fba2a16-4b0f-4fbe-80c3-c2cba45f0a99",
   "metadata": {},
   "source": [
    "#### All without removing uncertain"
   ]
  },
  {
   "cell_type": "code",
   "execution_count": 16,
   "id": "11364363-1b9a-4ef5-9422-7084c2a61a63",
   "metadata": {},
   "outputs": [],
   "source": [
    "all_data = seqs_and_labels.merge(training_data[['protein_ac', 'group_split_0', 'group_split_1', 'group_split_2', 'group_split_3', 'group_split_4']], 'left', 'protein_ac')"
   ]
  },
  {
   "cell_type": "code",
   "execution_count": 17,
   "id": "eff24641-8899-45e1-83bf-1a5a469723b7",
   "metadata": {},
   "outputs": [],
   "source": [
    "all_data.to_pickle('all_with_candidates.pickle')"
   ]
  }
 ],
 "metadata": {
  "kernelspec": {
   "display_name": "Python [conda env:ghost_lustre]",
   "language": "python",
   "name": "conda-env-ghost_lustre-py"
  },
  "language_info": {
   "codemirror_mode": {
    "name": "ipython",
    "version": 3
   },
   "file_extension": ".py",
   "mimetype": "text/x-python",
   "name": "python",
   "nbconvert_exporter": "python",
   "pygments_lexer": "ipython3",
   "version": "3.11.8"
  }
 },
 "nbformat": 4,
 "nbformat_minor": 5
}
